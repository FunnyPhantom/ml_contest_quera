{
 "cells": [
  {
   "cell_type": "code",
   "execution_count": 149,
   "metadata": {},
   "outputs": [],
   "source": [
    "import pandas as pd\n",
    "import numpy as np\n",
    "train_features = pd.read_csv(\"./q3/RNA-Seq dataset/train.csv\")\n",
    "train_labels = pd.read_csv(\"./q3/RNA-Seq dataset/train_labels.csv\")\n",
    "test_features = pd.read_csv(\"./q3/RNA-Seq dataset/test.csv\")\n",
    "\n",
    "train_features.drop(\"Unnamed: 0\", axis=1, inplace=True)\n",
    "train_labels.drop(\"Unnamed: 0\", axis=1, inplace=True)\n",
    "test_features_sample_names = test_features[\"Unnamed: 0\"].copy()\n",
    "test_features.drop(\"Unnamed: 0\", axis=1, inplace=True)\n"
   ]
  },
  {
   "cell_type": "code",
   "execution_count": 150,
   "metadata": {},
   "outputs": [
    {
     "name": "stdout",
     "output_type": "stream",
     "text": [
      "Train Features Shape: (700, 20531)\n",
      "Train Labels Shape: (700, 1)\n",
      "Test Features Shape: (101, 20531)\n",
      "\n",
      "Train Features:\n",
      "   gene_0    gene_1    gene_2    gene_3     gene_4  gene_5    gene_6  \\\n",
      "0     0.0  2.017209  3.265527  5.478487  10.431999     0.0  7.175175   \n",
      "1     0.0  0.592732  1.588421  7.586157   9.623011     0.0  6.816049   \n",
      "2     0.0  3.511759  4.327199  6.881787   9.870730     0.0  6.972130   \n",
      "3     0.0  3.467853  3.581918  6.620243   9.706829     0.0  7.758510   \n",
      "4     0.0  1.224966  1.691177  6.572007   9.640511     0.0  6.754888   \n",
      "\n",
      "     gene_7  gene_8  gene_9  ...  gene_20521  gene_20522  gene_20523  \\\n",
      "0  0.591871     0.0     0.0  ...    4.926711    8.210257    9.723516   \n",
      "1  0.000000     0.0     0.0  ...    4.593372    7.323865    9.740931   \n",
      "2  0.452595     0.0     0.0  ...    5.125213    8.127123   10.908640   \n",
      "3  0.000000     0.0     0.0  ...    5.726657    8.602588    9.928339   \n",
      "4  0.531868     0.0     0.0  ...    5.105904    7.927968    9.673966   \n",
      "\n",
      "   gene_20524  gene_20525  gene_20526  gene_20527  gene_20528  gene_20529  \\\n",
      "0    7.220030    9.119813   12.003135    9.650743    8.921326    5.286759   \n",
      "1    6.256586    8.381612   12.674552   10.517059    9.397854    2.094168   \n",
      "2    5.401607    9.911597    9.045255    9.788359   10.090470    1.683023   \n",
      "3    6.096154    9.816001   11.556995    9.244150    9.836473    5.355133   \n",
      "4    1.877744    9.802692   13.256060    9.664486    9.244219    8.330912   \n",
      "\n",
      "   gene_20530  \n",
      "0         0.0  \n",
      "1         0.0  \n",
      "2         0.0  \n",
      "3         0.0  \n",
      "4         0.0  \n",
      "\n",
      "[5 rows x 20531 columns]\n",
      "\n",
      "Train Labels:\n",
      "  Class\n",
      "0  PRAD\n",
      "1  LUAD\n",
      "2  PRAD\n",
      "3  PRAD\n",
      "4  KIRC\n",
      "\n",
      "Test Features:\n",
      "     gene_0    gene_1    gene_2    gene_3    gene_4  gene_5     gene_6  \\\n",
      "0  0.000000  3.395872  3.274023  7.050251  9.895044     0.0   6.898390   \n",
      "1  1.482332  2.907198  4.034365  6.613129  9.456295     0.0  10.038850   \n",
      "2  0.000000  3.642494  4.423558  6.849511  9.464466     0.0   7.947216   \n",
      "3  0.000000  4.365686  4.142609  6.310825  8.623929     0.0   8.268182   \n",
      "4  0.000000  3.981588  4.008218  6.870698  9.477366     0.0   6.972830   \n",
      "\n",
      "     gene_7  gene_8  gene_9  ...  gene_20521  gene_20522  gene_20523  \\\n",
      "0  0.969307     0.0     0.0  ...    6.645844    9.276713   10.125284   \n",
      "1  0.000000     0.0     0.0  ...    5.147535    7.685660   10.155552   \n",
      "2  0.724214     0.0     0.0  ...    6.020051    8.712809   10.259096   \n",
      "3  1.436801     0.0     0.0  ...    7.016452    8.868810   10.720501   \n",
      "4  0.545771     0.0     0.0  ...    6.524266    9.411676   10.069087   \n",
      "\n",
      "   gene_20524  gene_20525  gene_20526  gene_20527  gene_20528  gene_20529  \\\n",
      "0    4.298526   10.140664   10.269407   10.548485    9.958225    8.306577   \n",
      "1    6.664853    8.469345   12.737940   10.332171    8.624295    8.378936   \n",
      "2    6.131583    9.923582   11.144295    9.244851    9.484299    4.759151   \n",
      "3    1.995521   10.332137   11.305788   11.012834    9.786600    4.141212   \n",
      "4    6.364375   10.120640   11.287528   10.915386    9.641678    5.012032   \n",
      "\n",
      "   gene_20530  \n",
      "0    0.000000  \n",
      "1    0.000000  \n",
      "2    0.000000  \n",
      "3    0.512783  \n",
      "4    0.000000  \n",
      "\n",
      "[5 rows x 20531 columns]\n",
      "\n",
      "Missing Values:\n",
      "gene_0        0\n",
      "gene_1        0\n",
      "gene_2        0\n",
      "gene_3        0\n",
      "gene_4        0\n",
      "             ..\n",
      "gene_20526    0\n",
      "gene_20527    0\n",
      "gene_20528    0\n",
      "gene_20529    0\n",
      "gene_20530    0\n",
      "Length: 20531, dtype: int64\n",
      "\n",
      "Data Types:\n",
      "gene_0        float64\n",
      "gene_1        float64\n",
      "gene_2        float64\n",
      "gene_3        float64\n",
      "gene_4        float64\n",
      "               ...   \n",
      "gene_20526    float64\n",
      "gene_20527    float64\n",
      "gene_20528    float64\n",
      "gene_20529    float64\n",
      "gene_20530    float64\n",
      "Length: 20531, dtype: object\n",
      "Class    object\n",
      "dtype: object\n",
      "\n",
      "Summary Statistics:\n",
      "           gene_0      gene_1      gene_2      gene_3      gene_4  gene_5  \\\n",
      "count  700.000000  700.000000  700.000000  700.000000  700.000000   700.0   \n",
      "mean     0.025925    2.972785    3.071272    6.730364    9.820249     0.0   \n",
      "std      0.131518    1.215857    1.061743    0.648991    0.509005     0.0   \n",
      "min      0.000000    0.000000    0.000000    5.009284    8.435999     0.0   \n",
      "25%      0.000000    2.249392    2.369612    6.306873    9.458238     0.0   \n",
      "50%      0.000000    3.093973    3.084362    6.663878    9.797328     0.0   \n",
      "75%      0.000000    3.860842    3.737095    7.057962   10.168518     0.0   \n",
      "max      1.241108    6.051542    6.063484   10.129528   11.355621     0.0   \n",
      "\n",
      "           gene_6      gene_7      gene_8      gene_9  ...  gene_20521  \\\n",
      "count  700.000000  700.000000  700.000000  700.000000  ...  700.000000   \n",
      "mean     7.392561    0.497707    0.017966    0.015366  ...    5.895280   \n",
      "std      1.116298    0.506469    0.139418    0.218946  ...    0.748816   \n",
      "min      3.930747    0.000000    0.000000    0.000000  ...    2.853517   \n",
      "25%      6.675696    0.000000    0.000000    0.000000  ...    5.447224   \n",
      "50%      7.440931    0.443341    0.000000    0.000000  ...    5.969638   \n",
      "75%      8.115501    0.781549    0.000000    0.000000  ...    6.415763   \n",
      "max     10.718190    2.779008    1.785592    4.067604  ...    7.771054   \n",
      "\n",
      "       gene_20522  gene_20523  gene_20524  gene_20525  gene_20526  gene_20527  \\\n",
      "count  700.000000  700.000000  700.000000  700.000000  700.000000  700.000000   \n",
      "mean     8.759727   10.055986    4.799015    9.734600   11.763339   10.148856   \n",
      "std      0.603981    0.385250    2.389745    0.541605    0.667649    0.579300   \n",
      "min      6.678368    8.669456    0.000000    7.974942    9.045255    7.530141   \n",
      "25%      8.379601    9.813678    3.040268    9.396457   11.346883    9.826726   \n",
      "50%      8.780876   10.062984    5.432011    9.774717   11.763432   10.172646   \n",
      "75%      9.148560   10.306543    6.599984   10.077703   12.186265   10.563491   \n",
      "max     11.105431   11.318243    9.207495   11.811632   13.715361   11.675653   \n",
      "\n",
      "       gene_20528  gene_20529  gene_20530  \n",
      "count  700.000000  700.000000  700.000000  \n",
      "mean     9.582391    5.554854    0.097480  \n",
      "std      0.579086    2.075913    0.378726  \n",
      "min      7.864533    0.593975    0.000000  \n",
      "25%      9.233083    4.134164    0.000000  \n",
      "50%      9.562140    5.272942    0.000000  \n",
      "75%      9.914400    6.908949    0.000000  \n",
      "max     12.813320   11.205836    5.254133  \n",
      "\n",
      "[8 rows x 20531 columns]\n"
     ]
    }
   ],
   "source": [
    "# Display the shape of the data\n",
    "print(\"Train Features Shape:\", train_features.shape)\n",
    "print(\"Train Labels Shape:\", train_labels.shape)\n",
    "print(\"Test Features Shape:\", test_features.shape)\n",
    "print()\n",
    "\n",
    "# Display the first few rows of the data\n",
    "print(\"Train Features:\")\n",
    "print(train_features.head())\n",
    "print()\n",
    "\n",
    "print(\"Train Labels:\")\n",
    "print(train_labels.head())\n",
    "print()\n",
    "\n",
    "print(\"Test Features:\")\n",
    "print(test_features.head())\n",
    "print()\n",
    "\n",
    "# Check for missing values\n",
    "print(\"Missing Values:\")\n",
    "print(train_features.isnull().sum())\n",
    "print()\n",
    "\n",
    "# Check the data types of features and labels\n",
    "print(\"Data Types:\")\n",
    "print(train_features.dtypes)\n",
    "print(train_labels.dtypes)\n",
    "print()\n",
    "\n",
    "# Statistical summary of features\n",
    "print(\"Summary Statistics:\")\n",
    "print(train_features.describe())"
   ]
  },
  {
   "cell_type": "code",
   "execution_count": 151,
   "metadata": {},
   "outputs": [
    {
     "name": "stdout",
     "output_type": "stream",
     "text": [
      "BRCA    264\n",
      "KIRC    130\n",
      "LUAD    124\n",
      "PRAD    112\n",
      "COAD     70\n",
      "Name: Class, dtype: int64\n"
     ]
    },
    {
     "data": {
      "image/png": "[encoded data removed]",
      "text/plain": [
       "<Figure size 800x800 with 1 Axes>"
      ]
     },
     "metadata": {},
     "output_type": "display_data"
    }
   ],
   "source": [
    "import matplotlib.pyplot as plt\n",
    "\n",
    "# Get the frequency of each class\n",
    "class_counts = train_labels['Class'].value_counts()\n",
    "\n",
    "print(class_counts)\n",
    "\n",
    "# Plot the pie chart\n",
    "plt.figure(figsize=(8, 8))\n",
    "plt.pie(class_counts, labels=class_counts.index, autopct='%1.1f%%')\n",
    "plt.title('Class Frequency')\n",
    "plt.axis('equal')\n",
    "plt.show()\n"
   ]
  },
  {
   "cell_type": "code",
   "execution_count": 152,
   "metadata": {},
   "outputs": [],
   "source": [
    "from sklearn.preprocessing import LabelEncoder\n",
    "\n",
    "label_encoder = LabelEncoder()\n",
    "label_encoder.fit(train_labels[\"Class\"])\n",
    "\n",
    "labels = label_encoder.transform(train_labels[\"Class\"])\n"
   ]
  },
  {
   "cell_type": "code",
   "execution_count": 153,
   "metadata": {},
   "outputs": [],
   "source": [
    "import torch\n",
    "import torch.nn.functional as tF\n",
    "\n",
    "# Example usage\n",
    "input_size = train_features.shape[1]  # Number of features in the system\n",
    "num_classes = train_labels[\"Class\"].nunique()  # Number of unique classes\n",
    "\n",
    "# Convert train_features to torch tensor\n",
    "train_features_tensor = torch.tensor(train_features.values, dtype=torch.float32)\n",
    "\n",
    "# Convert test_features to torch tensor\n",
    "test_features_tensor = torch.tensor(test_features.values, dtype=torch.float32)\n",
    "\n",
    "# Convert labels to torch tensor (column vector)\n",
    "labels_tensor = tF.one_hot(torch.tensor(labels, dtype=torch.int64), num_classes).squeeze().float()\n",
    "\n"
   ]
  },
  {
   "cell_type": "code",
   "execution_count": 154,
   "metadata": {},
   "outputs": [
    {
     "data": {
      "text/plain": [
       "tensor([[ 0.0000,  2.0172,  3.2655,  ...,  8.9213,  5.2868,  0.0000],\n",
       "        [ 0.0000,  0.5927,  1.5884,  ...,  9.3979,  2.0942,  0.0000],\n",
       "        [ 0.0000,  3.5118,  4.3272,  ..., 10.0905,  1.6830,  0.0000],\n",
       "        ...,\n",
       "        [ 0.0000,  3.2496,  3.7075,  ...,  9.4667,  4.6775,  0.5867],\n",
       "        [ 0.0000,  2.5903,  2.7880,  ..., 10.4006,  5.7188,  0.0000],\n",
       "        [ 0.0000,  2.3252,  3.8059,  ...,  9.8448,  4.5507,  0.0000]])"
      ]
     },
     "execution_count": 154,
     "metadata": {},
     "output_type": "execute_result"
    }
   ],
   "source": [
    "train_features_tensor"
   ]
  },
  {
   "cell_type": "code",
   "execution_count": 155,
   "metadata": {},
   "outputs": [
    {
     "data": {
      "text/plain": [
       "tensor([[0., 0., 0., 0., 1.],\n",
       "        [0., 0., 0., 1., 0.],\n",
       "        [0., 0., 0., 0., 1.],\n",
       "        ...,\n",
       "        [0., 1., 0., 0., 0.],\n",
       "        [0., 0., 0., 0., 1.],\n",
       "        [0., 0., 0., 0., 1.]])"
      ]
     },
     "execution_count": 155,
     "metadata": {},
     "output_type": "execute_result"
    }
   ],
   "source": [
    "labels_tensor"
   ]
  },
  {
   "cell_type": "code",
   "execution_count": 156,
   "metadata": {},
   "outputs": [],
   "source": [
    "import torch\n",
    "import torch.nn as nn\n",
    "import pytorch_lightning as pl\n",
    "\n",
    "class MLP(pl.LightningModule):\n",
    "    def __init__(self, input_size, num_classes):\n",
    "        super(MLP, self).__init__()\n",
    "        self.fc1 = nn.Linear(input_size, 50)\n",
    "        self.gelu = nn.GELU()\n",
    "        self.fc2 = nn.Linear(50, 20)\n",
    "        self.sigmoid = nn.Sigmoid()\n",
    "        self.fc3 = nn.Linear(20, num_classes)\n",
    "        self.softmax = nn.Softmax()\n",
    "        \n",
    "    def forward(self, x):\n",
    "        out = self.fc1(x)\n",
    "        out = self.gelu(out)\n",
    "        out = self.fc2(out)\n",
    "        out = self.sigmoid(out)\n",
    "        out = self.fc3(out)\n",
    "        out = self.softmax(out)\n",
    "        return out\n",
    "    \n",
    "    def configure_optimizers(self):\n",
    "        return torch.optim.Adam(self.parameters(), lr=0.01)\n",
    "    \n",
    "    def training_step(self, batch, batch_idx):\n",
    "        features, labels = batch\n",
    "        outputs = self.forward(features)\n",
    "        loss = nn.CrossEntropyLoss()(outputs, labels)\n",
    "        print(\"loss: {}\".format(loss))\n",
    "        return loss\n",
    "\n",
    "\n",
    "\n",
    "\n",
    "\n",
    "model = MLP(input_size, num_classes)\n",
    "\n",
    "\n"
   ]
  },
  {
   "cell_type": "code",
   "execution_count": 157,
   "metadata": {},
   "outputs": [],
   "source": [
    "from torch.utils.data import  TensorDataset, DataLoader\n",
    "\n",
    "\n",
    "train_dataset = TensorDataset(train_features_tensor, labels_tensor)\n",
    "\n",
    "batch_size = 128\n",
    "\n",
    "train_loader = DataLoader(train_dataset, batch_size=batch_size, shuffle=True)\n"
   ]
  },
  {
   "cell_type": "code",
   "execution_count": 158,
   "metadata": {},
   "outputs": [
    {
     "name": "stderr",
     "output_type": "stream",
     "text": [
      "GPU available: False, used: False\n",
      "TPU available: False, using: 0 TPU cores\n",
      "IPU available: False, using: 0 IPUs\n",
      "HPU available: False, using: 0 HPUs\n",
      "\n",
      "  | Name    | Type    | Params\n",
      "------------------------------------\n",
      "0 | fc1     | Linear  | 1.0 M \n",
      "1 | gelu    | GELU    | 0     \n",
      "2 | fc2     | Linear  | 1.0 K \n",
      "3 | sigmoid | Sigmoid | 0     \n",
      "4 | fc3     | Linear  | 105   \n",
      "5 | softmax | Softmax | 0     \n",
      "------------------------------------\n",
      "1.0 M     Trainable params\n",
      "0         Non-trainable params\n",
      "1.0 M     Total params\n",
      "4.111     Total estimated model params size (MB)\n",
      "/opt/anaconda3/envs/sut-default-env/lib/python3.10/site-packages/pytorch_lightning/trainer/connectors/data_connector.py:430: PossibleUserWarning: The dataloader, train_dataloader, does not have many workers which may be a bottleneck. Consider increasing the value of the `num_workers` argument` (try 8 which is the number of cpus on this machine) in the `DataLoader` init to improve performance.\n",
      "  rank_zero_warn(\n",
      "/opt/anaconda3/envs/sut-default-env/lib/python3.10/site-packages/pytorch_lightning/loops/fit_loop.py:280: PossibleUserWarning: The number of training batches (6) is smaller than the logging interval Trainer(log_every_n_steps=50). Set a lower value for log_every_n_steps if you want to see logs for the training epoch.\n",
      "  rank_zero_warn(\n"
     ]
    },
    {
     "name": "stdout",
     "output_type": "stream",
     "text": [
      "Parameter name: fc1.weight, Data type: torch.float32\n",
      "Parameter name: fc1.bias, Data type: torch.float32\n",
      "Parameter name: fc2.weight, Data type: torch.float32\n",
      "Parameter name: fc2.bias, Data type: torch.float32\n",
      "Parameter name: fc3.weight, Data type: torch.float32\n",
      "Parameter name: fc3.bias, Data type: torch.float32\n",
      "Input Tensor Data Type: torch.float32\n",
      "Epoch 0:   0%|          | 0/6 [00:00<?, ?it/s] loss: 1.6264700889587402\n",
      "Epoch 0:  17%|█▋        | 1/6 [00:00<00:00, 15.46it/s, v_num=13]loss: 1.5865927934646606\n",
      "Epoch 0:  33%|███▎      | 2/6 [00:00<00:00, 21.94it/s, v_num=13]loss: 1.5845656394958496\n",
      "Epoch 0:  50%|█████     | 3/6 [00:00<00:00, 23.83it/s, v_num=13]loss: 1.5760509967803955\n",
      "Epoch 0:  67%|██████▋   | 4/6 [00:00<00:00, 26.13it/s, v_num=13]loss: 1.578535795211792\n",
      "Epoch 0:  83%|████████▎ | 5/6 [00:00<00:00, 27.76it/s, v_num=13]"
     ]
    },
    {
     "name": "stderr",
     "output_type": "stream",
     "text": [
      "/var/folders/29/lt38nz310nn4dylkcy5l8k740000gn/T/ipykernel_66508/3162648837.py:21: UserWarning: Implicit dimension choice for softmax has been deprecated. Change the call to include dim=X as an argument.\n",
      "  out = self.softmax(out)\n"
     ]
    },
    {
     "name": "stdout",
     "output_type": "stream",
     "text": [
      "loss: 1.5594044923782349\n",
      "Epoch 0: 100%|██████████| 6/6 [00:00<00:00, 30.03it/s, v_num=13]"
     ]
    },
    {
     "name": "stderr",
     "output_type": "stream",
     "text": [
      "`Trainer.fit` stopped: `max_epochs=1` reached.\n"
     ]
    },
    {
     "name": "stdout",
     "output_type": "stream",
     "text": [
      "Epoch 0: 100%|██████████| 6/6 [00:00<00:00, 27.39it/s, v_num=13]\n"
     ]
    }
   ],
   "source": [
    "\n",
    "trainer = pl.Trainer(max_epochs=1)\n",
    "\n",
    "for name, param in model.named_parameters():\n",
    "    print(f\"Parameter name: {name}, Data type: {param.dtype}\")\n",
    "\n",
    "print(\"Input Tensor Data Type:\", train_features_tensor.dtype)\n",
    "\n",
    "\n",
    "trainer.fit(model, train_loader)"
   ]
  },
  {
   "cell_type": "code",
   "execution_count": 159,
   "metadata": {},
   "outputs": [
    {
     "name": "stdout",
     "output_type": "stream",
     "text": [
      "tensor([0, 0, 0, 0, 0, 0, 0, 0, 0, 0, 0, 0, 0, 0, 0, 0, 0, 0, 0, 0, 0, 0, 0, 0,\n",
      "        0, 0, 0, 0, 0, 0, 0, 0, 0, 0, 0, 0, 0, 0, 0, 0, 0, 0, 0, 0, 0, 0, 0, 0,\n",
      "        0, 0, 0, 0, 0, 0, 0, 0, 0, 0, 0, 0, 0, 0, 0, 0, 0, 0, 0, 0, 0, 0, 0, 0,\n",
      "        0, 0, 0, 0, 0, 0, 0, 0, 0, 0, 0, 0, 0, 0, 0, 0, 0, 0, 0, 0, 0, 0, 0, 0,\n",
      "        0, 0, 0, 0, 0])\n",
      "['BRCA' 'BRCA' 'BRCA' 'BRCA' 'BRCA' 'BRCA' 'BRCA' 'BRCA' 'BRCA' 'BRCA'\n",
      " 'BRCA' 'BRCA' 'BRCA' 'BRCA' 'BRCA' 'BRCA' 'BRCA' 'BRCA' 'BRCA' 'BRCA'\n",
      " 'BRCA' 'BRCA' 'BRCA' 'BRCA' 'BRCA' 'BRCA' 'BRCA' 'BRCA' 'BRCA' 'BRCA'\n",
      " 'BRCA' 'BRCA' 'BRCA' 'BRCA' 'BRCA' 'BRCA' 'BRCA' 'BRCA' 'BRCA' 'BRCA'\n",
      " 'BRCA' 'BRCA' 'BRCA' 'BRCA' 'BRCA' 'BRCA' 'BRCA' 'BRCA' 'BRCA' 'BRCA'\n",
      " 'BRCA' 'BRCA' 'BRCA' 'BRCA' 'BRCA' 'BRCA' 'BRCA' 'BRCA' 'BRCA' 'BRCA'\n",
      " 'BRCA' 'BRCA' 'BRCA' 'BRCA' 'BRCA' 'BRCA' 'BRCA' 'BRCA' 'BRCA' 'BRCA'\n",
      " 'BRCA' 'BRCA' 'BRCA' 'BRCA' 'BRCA' 'BRCA' 'BRCA' 'BRCA' 'BRCA' 'BRCA'\n",
      " 'BRCA' 'BRCA' 'BRCA' 'BRCA' 'BRCA' 'BRCA' 'BRCA' 'BRCA' 'BRCA' 'BRCA'\n",
      " 'BRCA' 'BRCA' 'BRCA' 'BRCA' 'BRCA' 'BRCA' 'BRCA' 'BRCA' 'BRCA' 'BRCA'\n",
      " 'BRCA']\n"
     ]
    },
    {
     "name": "stderr",
     "output_type": "stream",
     "text": [
      "/var/folders/29/lt38nz310nn4dylkcy5l8k740000gn/T/ipykernel_66508/3162648837.py:21: UserWarning: Implicit dimension choice for softmax has been deprecated. Change the call to include dim=X as an argument.\n",
      "  out = self.softmax(out)\n"
     ]
    },
    {
     "data": {
      "text/plain": [
       "array(['BRCA', 'BRCA', 'BRCA', 'BRCA', 'BRCA', 'BRCA', 'BRCA', 'BRCA',\n",
       "       'BRCA', 'BRCA', 'BRCA', 'BRCA', 'BRCA', 'BRCA', 'BRCA', 'BRCA',\n",
       "       'BRCA', 'BRCA', 'BRCA', 'BRCA', 'BRCA', 'BRCA', 'BRCA', 'BRCA',\n",
       "       'BRCA', 'BRCA', 'BRCA', 'BRCA', 'BRCA', 'BRCA', 'BRCA', 'BRCA',\n",
       "       'BRCA', 'BRCA', 'BRCA', 'BRCA', 'BRCA', 'BRCA', 'BRCA', 'BRCA',\n",
       "       'BRCA', 'BRCA', 'BRCA', 'BRCA', 'BRCA', 'BRCA', 'BRCA', 'BRCA',\n",
       "       'BRCA', 'BRCA', 'BRCA', 'BRCA', 'BRCA', 'BRCA', 'BRCA', 'BRCA',\n",
       "       'BRCA', 'BRCA', 'BRCA', 'BRCA', 'BRCA', 'BRCA', 'BRCA', 'BRCA',\n",
       "       'BRCA', 'BRCA', 'BRCA', 'BRCA', 'BRCA', 'BRCA', 'BRCA', 'BRCA',\n",
       "       'BRCA', 'BRCA', 'BRCA', 'BRCA', 'BRCA', 'BRCA', 'BRCA', 'BRCA',\n",
       "       'BRCA', 'BRCA', 'BRCA', 'BRCA', 'BRCA', 'BRCA', 'BRCA', 'BRCA',\n",
       "       'BRCA', 'BRCA', 'BRCA', 'BRCA', 'BRCA', 'BRCA', 'BRCA', 'BRCA',\n",
       "       'BRCA', 'BRCA', 'BRCA', 'BRCA', 'BRCA'], dtype=object)"
      ]
     },
     "execution_count": 159,
     "metadata": {},
     "output_type": "execute_result"
    }
   ],
   "source": [
    "def get_prediction(features):\n",
    "    result = model.forward(features)\n",
    "    predicted_labels_idx = torch.argmax(result, dim=1)\n",
    "    predicted_labels = label_encoder.inverse_transform(predicted_labels_idx)\n",
    "    print(predicted_labels_idx)\n",
    "    print(predicted_labels)\n",
    "    return predicted_labels\n",
    "\n",
    "get_prediction(test_features_tensor)"
   ]
  },
  {
   "cell_type": "code",
   "execution_count": null,
   "metadata": {},
   "outputs": [],
   "source": []
  }
 ],
 "metadata": {
  "kernelspec": {
   "display_name": "sut-default-env",
   "language": "python",
   "name": "python3"
  },
  "language_info": {
   "codemirror_mode": {
    "name": "ipython",
    "version": 3
   },
   "file_extension": ".py",
   "mimetype": "text/x-python",
   "name": "python",
   "nbconvert_exporter": "python",
   "pygments_lexer": "ipython3",
   "version": "3.10.6"
  },
  "orig_nbformat": 4
 },
 "nbformat": 4,
 "nbformat_minor": 2
}
