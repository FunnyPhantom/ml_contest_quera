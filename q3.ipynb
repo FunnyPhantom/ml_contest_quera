{
 "cells": [
  {
   "cell_type": "code",
   "execution_count": 5,
   "metadata": {},
   "outputs": [],
   "source": [
    "import pandas as pd\n",
    "\n",
    "train_features = pd.read_csv(\"./q3/RNA-Seq dataset/train.csv\")\n",
    "train_labels = pd.read_csv(\"./q3/RNA-Seq dataset/train_labels.csv\")\n",
    "test_features = pd.read_csv(\"./q3/RNA-Seq dataset/test.csv\")"
   ]
  },
  {
   "cell_type": "code",
   "execution_count": 6,
   "metadata": {},
   "outputs": [
    {
     "name": "stdout",
     "output_type": "stream",
     "text": [
      "  Unnamed: 0  gene_0    gene_1    gene_2    gene_3     gene_4  gene_5  \\\n",
      "0   sample_0     0.0  2.017209  3.265527  5.478487  10.431999     0.0   \n",
      "1   sample_1     0.0  0.592732  1.588421  7.586157   9.623011     0.0   \n",
      "2   sample_2     0.0  3.511759  4.327199  6.881787   9.870730     0.0   \n",
      "3   sample_5     0.0  3.467853  3.581918  6.620243   9.706829     0.0   \n",
      "4   sample_6     0.0  1.224966  1.691177  6.572007   9.640511     0.0   \n",
      "\n",
      "     gene_6    gene_7  gene_8  ...  gene_20521  gene_20522  gene_20523  \\\n",
      "0  7.175175  0.591871     0.0  ...    4.926711    8.210257    9.723516   \n",
      "1  6.816049  0.000000     0.0  ...    4.593372    7.323865    9.740931   \n",
      "2  6.972130  0.452595     0.0  ...    5.125213    8.127123   10.908640   \n",
      "3  7.758510  0.000000     0.0  ...    5.726657    8.602588    9.928339   \n",
      "4  6.754888  0.531868     0.0  ...    5.105904    7.927968    9.673966   \n",
      "\n",
      "   gene_20524  gene_20525  gene_20526  gene_20527  gene_20528  gene_20529  \\\n",
      "0    7.220030    9.119813   12.003135    9.650743    8.921326    5.286759   \n",
      "1    6.256586    8.381612   12.674552   10.517059    9.397854    2.094168   \n",
      "2    5.401607    9.911597    9.045255    9.788359   10.090470    1.683023   \n",
      "3    6.096154    9.816001   11.556995    9.244150    9.836473    5.355133   \n",
      "4    1.877744    9.802692   13.256060    9.664486    9.244219    8.330912   \n",
      "\n",
      "   gene_20530  \n",
      "0         0.0  \n",
      "1         0.0  \n",
      "2         0.0  \n",
      "3         0.0  \n",
      "4         0.0  \n",
      "\n",
      "[5 rows x 20532 columns]\n",
      "\n",
      "\n",
      "\n",
      "  Unnamed: 0 Class\n",
      "0   sample_0  PRAD\n",
      "1   sample_1  LUAD\n",
      "2   sample_2  PRAD\n",
      "3   sample_5  PRAD\n",
      "4   sample_6  KIRC\n",
      "\n",
      "\n",
      "\n",
      "   Unnamed: 0    gene_0    gene_1    gene_2    gene_3    gene_4  gene_5  \\\n",
      "0  sample_661  0.000000  3.395872  3.274023  7.050251  9.895044     0.0   \n",
      "1   sample_72  1.482332  2.907198  4.034365  6.613129  9.456295     0.0   \n",
      "2    sample_9  0.000000  3.642494  4.423558  6.849511  9.464466     0.0   \n",
      "3  sample_316  0.000000  4.365686  4.142609  6.310825  8.623929     0.0   \n",
      "4  sample_519  0.000000  3.981588  4.008218  6.870698  9.477366     0.0   \n",
      "\n",
      "      gene_6    gene_7  gene_8  ...  gene_20521  gene_20522  gene_20523  \\\n",
      "0   6.898390  0.969307     0.0  ...    6.645844    9.276713   10.125284   \n",
      "1  10.038850  0.000000     0.0  ...    5.147535    7.685660   10.155552   \n",
      "2   7.947216  0.724214     0.0  ...    6.020051    8.712809   10.259096   \n",
      "3   8.268182  1.436801     0.0  ...    7.016452    8.868810   10.720501   \n",
      "4   6.972830  0.545771     0.0  ...    6.524266    9.411676   10.069087   \n",
      "\n",
      "   gene_20524  gene_20525  gene_20526  gene_20527  gene_20528  gene_20529  \\\n",
      "0    4.298526   10.140664   10.269407   10.548485    9.958225    8.306577   \n",
      "1    6.664853    8.469345   12.737940   10.332171    8.624295    8.378936   \n",
      "2    6.131583    9.923582   11.144295    9.244851    9.484299    4.759151   \n",
      "3    1.995521   10.332137   11.305788   11.012834    9.786600    4.141212   \n",
      "4    6.364375   10.120640   11.287528   10.915386    9.641678    5.012032   \n",
      "\n",
      "   gene_20530  \n",
      "0    0.000000  \n",
      "1    0.000000  \n",
      "2    0.000000  \n",
      "3    0.512783  \n",
      "4    0.000000  \n",
      "\n",
      "[5 rows x 20532 columns]\n"
     ]
    }
   ],
   "source": [
    "print(train_features.head())\n",
    "print(\"\\n\\n\")\n",
    "print(train_labels.head())\n",
    "print(\"\\n\\n\")\n",
    "print(test_features.head())"
   ]
  },
  {
   "cell_type": "code",
   "execution_count": 7,
   "metadata": {},
   "outputs": [
    {
     "data": {
      "text/plain": [
       "Index(['Unnamed: 0'], dtype='object')"
      ]
     },
     "execution_count": 7,
     "metadata": {},
     "output_type": "execute_result"
    }
   ],
   "source": [
    "obj_cl = train_features.select_dtypes(include=[\"object\"]).columns\n",
    "obj_cl"
   ]
  }
 ],
 "metadata": {
  "kernelspec": {
   "display_name": "sut-default-env",
   "language": "python",
   "name": "python3"
  },
  "language_info": {
   "codemirror_mode": {
    "name": "ipython",
    "version": 3
   },
   "file_extension": ".py",
   "mimetype": "text/x-python",
   "name": "python",
   "nbconvert_exporter": "python",
   "pygments_lexer": "ipython3",
   "version": "3.10.6"
  },
  "orig_nbformat": 4
 },
 "nbformat": 4,
 "nbformat_minor": 2
}
