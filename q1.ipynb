{
 "cells": [
  {
   "cell_type": "code",
   "execution_count": 1,
   "metadata": {},
   "outputs": [
    {
     "name": "stderr",
     "output_type": "stream",
     "text": [
      "/opt/anaconda3/envs/sut-default-env/lib/python3.10/site-packages/tqdm/auto.py:21: TqdmWarning: IProgress not found. Please update jupyter and ipywidgets. See https://ipywidgets.readthedocs.io/en/stable/user_install.html\n",
      "  from .autonotebook import tqdm as notebook_tqdm\n",
      "Importing plotly failed. Interactive plots will not work.\n",
      "13:29:35 - cmdstanpy - INFO - Chain [1] start processing\n",
      "13:29:35 - cmdstanpy - INFO - Chain [1] done processing\n"
     ]
    },
    {
     "name": "stdout",
     "output_type": "stream",
     "text": [
      "46.067951\n",
      "47.241346\n",
      "45.318502\n",
      "43.959934\n",
      "44.558104\n",
      "42.253867\n",
      "44.470374\n",
      "46.134249\n",
      "47.309320\n",
      "45.383696\n"
     ]
    }
   ],
   "source": [
    "import numpy as np\n",
    "import pandas as pd\n",
    "from prophet import Prophet\n",
    "from sklearn.model_selection import train_test_split\n",
    "\n",
    "df = pd.read_csv(\"./q1/dataset.csv\")\n",
    "\n",
    "train = df.iloc[:355].copy()\n",
    "\n",
    "train['count'] = train['count'].astype(int)\n",
    "# validation['count'] = validation['count'].astype(int)\n",
    "\n",
    "# Add a new column named 'cap' to the train DataFrame\n",
    "train['cap'] = train['count'].max()\n",
    "# validation['cap'] = train['count'].max()\n",
    "\n",
    "test = df.iloc[355:].copy()\n",
    "test.drop(\"count\", axis=1, inplace=True)\n",
    "\n",
    "train.columns = [\"ds\", \"y\", \"cap\"]\n",
    "# validation.columns = [\"ds\", \"y\", \"cap\"]\n",
    "test.columns = [\"ds\"]\n",
    "\n",
    "# hyperparameters = {\n",
    "#     \"growth\": [\"linear\", \"logistic\"],  # List of growth options to try\n",
    "#     \"seasonality_mode\": [\"multiplicative\", \"additive\"],  # List of seasonality mode options to try\n",
    "# }\n",
    "\n",
    "# validation_scores = []  # List to store the validation scores for each combination of hyperparameters\n",
    "\n",
    "# for growth in hyperparameters[\"growth\"]:\n",
    "#     for seasonality_mode in hyperparameters[\"seasonality_mode\"]:\n",
    "#         model = Prophet(growth=growth, seasonality_mode=seasonality_mode)\n",
    "#         model.fit(train)\n",
    "#         print({growth, seasonality_mode})\n",
    "\n",
    "#         preds = model.predict(validation)[[\"yhat\"]].values.flatten()\n",
    "#         validation_values = validation[\"y\"].values.flatten()\n",
    "\n",
    "#         n = len(preds)\n",
    "#         smape = 100 / n * ((np.abs(preds - validation_values) / (np.abs(preds) + np.abs(validation_values) * 2))).sum()\n",
    "#         final_score = (((17 - smape) / smape) ** 0.35) * 100 if smape <= 17 else 0\n",
    "\n",
    "#         validation_scores.append({\n",
    "#             \"growth\": growth,\n",
    "#             \"seasonality_mode\": seasonality_mode,\n",
    "#             \"validation_score\": final_score\n",
    "#         })\n",
    "\n",
    "#         # # Save the output to a CSV file\n",
    "#         # output_filename = f\"q1/output_{growth}_{seasonality_mode}.csv\"\n",
    "#         # res = pd.DataFrame({\"count\": preds})\n",
    "#         # res.to_csv(output_filename, index=False)\n",
    "\n",
    "# # Print the validation scores for each combination of hyperparameters\n",
    "# for score in validation_scores:\n",
    "#     print(\"Hyperparameters:\", score[\"growth\"], score[\"seasonality_mode\"])\n",
    "#     print(\"Validation Score:\", score[\"validation_score\"])\n",
    "#     print(\"--------------------------------------\")\n",
    "\n",
    "\n",
    "m = Prophet(growth=\"linear\", seasonality_mode=\"multiplicative\")\n",
    "m.fit(train)\n",
    "res = m.predict(test)[\"yhat\"]\n",
    "print(res.to_string(index=False))"
   ]
  }
 ],
 "metadata": {
  "kernelspec": {
   "display_name": "sut-default-env",
   "language": "python",
   "name": "python3"
  },
  "language_info": {
   "codemirror_mode": {
    "name": "ipython",
    "version": 3
   },
   "file_extension": ".py",
   "mimetype": "text/x-python",
   "name": "python",
   "nbconvert_exporter": "python",
   "pygments_lexer": "ipython3",
   "version": "3.10.6"
  },
  "orig_nbformat": 4
 },
 "nbformat": 4,
 "nbformat_minor": 2
}
