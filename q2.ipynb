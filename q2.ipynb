{
 "cells": [
  {
   "cell_type": "code",
   "execution_count": 32,
   "metadata": {},
   "outputs": [],
   "source": [
    "import pandas as pd\n",
    "\n",
    "df = pd.read_csv(\"./q2/dataset.csv\")\n",
    "\n",
    "df.drop(\"Unnamed: 0\", axis=1, inplace=True)\n",
    "new_column_names = {col: col.split(\"_\")[1] for col in df.columns}\n",
    "df.rename(columns=new_column_names, inplace=True)\n",
    "\n",
    "\n",
    "df.head()"
   ]
  },
  {
   "cell_type": "code",
   "execution_count": null,
   "metadata": {},
   "outputs": [],
   "source": [
    "# zero_columns = df.columns[(df == 0).all()]\n",
    "# print(zero_columns)\n",
    "# df.drop(zero_columns, axis=1, inplace=True)\n",
    "\n"
   ]
  },
  {
   "cell_type": "code",
   "execution_count": null,
   "metadata": {},
   "outputs": [
    {
     "name": "stdout",
     "output_type": "stream",
     "text": [
      "     0         1         2         3          4    5         6         7    8  \\\n",
      "0  0.0  2.017209  3.265527  5.478487  10.431999  0.0  7.175175  0.591871  0.0   \n",
      "1  0.0  0.592732  1.588421  7.586157   9.623011  0.0  6.816049  0.000000  0.0   \n",
      "2  0.0  3.511759  4.327199  6.881787   9.870730  0.0  6.972130  0.452595  0.0   \n",
      "3  0.0  3.663618  4.507649  6.659068  10.196184  0.0  7.843375  0.434882  0.0   \n",
      "4  0.0  2.655741  2.821547  6.539454   9.738265  0.0  6.566967  0.360982  0.0   \n",
      "\n",
      "     9  ...     20521     20522      20523     20524     20525      20526  \\\n",
      "0  0.0  ...  4.926711  8.210257   9.723516  7.220030  9.119813  12.003135   \n",
      "1  0.0  ...  4.593372  7.323865   9.740931  6.256586  8.381612  12.674552   \n",
      "2  0.0  ...  5.125213  8.127123  10.908640  5.401607  9.911597   9.045255   \n",
      "3  0.0  ...  6.076566  8.792959  10.141520  8.942805  9.601208  11.392682   \n",
      "4  0.0  ...  5.996032  8.891425  10.373790  7.181162  9.846910  11.922439   \n",
      "\n",
      "       20527      20528     20529  20530  \n",
      "0   9.650743   8.921326  5.286759    0.0  \n",
      "1  10.517059   9.397854  2.094168    0.0  \n",
      "2   9.788359  10.090470  1.683023    0.0  \n",
      "3   9.694814   9.684365  3.292001    0.0  \n",
      "4   9.217749   9.461191  5.110372    0.0  \n",
      "\n",
      "[5 rows x 20531 columns]\n"
     ]
    }
   ],
   "source": [
    "print(df.head())"
   ]
  },
  {
   "cell_type": "code",
   "execution_count": null,
   "metadata": {},
   "outputs": [],
   "source": [
    "from sklearn.cluster import SpectralClustering\n",
    "from sklearn.mixture import GaussianMixture\n",
    "# from sklearn.preprocessing import StandardScaler\n",
    "from sklearn.decomposition import PCA\n",
    "\n",
    "\n",
    "\n",
    "\n",
    "\n",
    "kmeans = SpectralClustering(n_clusters=5)\n",
    "cluster_labels = kmeans.fit_predict(df)\n",
    "\n",
    "output = pd.DataFrame({\"clusters\": cluster_labels}).to_csv(\"./q2/output.csv\")\n"
   ]
  }
 ],
 "metadata": {
  "kernelspec": {
   "display_name": "sut-default-env",
   "language": "python",
   "name": "python3"
  },
  "language_info": {
   "codemirror_mode": {
    "name": "ipython",
    "version": 3
   },
   "file_extension": ".py",
   "mimetype": "text/x-python",
   "name": "python",
   "nbconvert_exporter": "python",
   "pygments_lexer": "ipython3",
   "version": "3.10.6"
  },
  "orig_nbformat": 4
 },
 "nbformat": 4,
 "nbformat_minor": 2
}
